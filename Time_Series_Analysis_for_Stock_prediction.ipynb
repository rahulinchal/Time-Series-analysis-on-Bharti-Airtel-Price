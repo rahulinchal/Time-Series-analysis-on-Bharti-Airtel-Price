{
  "nbformat": 4,
  "nbformat_minor": 0,
  "metadata": {
    "colab": {
      "provenance": []
    },
    "kernelspec": {
      "name": "python3",
      "display_name": "Python 3"
    },
    "language_info": {
      "name": "python"
    }
  },
  "cells": [
    {
      "cell_type": "markdown",
      "source": [
        "### **Importing important Packages**"
      ],
      "metadata": {
        "id": "vfxxIKSwYSFg"
      }
    },
    {
      "cell_type": "code",
      "execution_count": null,
      "metadata": {
        "id": "_ut71L8Voh7t"
      },
      "outputs": [],
      "source": [
        "import pandas as pd\n",
        "import seaborn as sns\n",
        "from matplotlib import pyplot as plt\n",
        "import numpy as np\n",
        "%matplotlib inline\n",
        "\n",
        "import warnings\n",
        "warnings.filterwarnings('ignore')"
      ]
    },
    {
      "cell_type": "code",
      "source": [
        "# Reading the data from Github\n",
        "df = pd.read_csv(\"https://raw.githubusercontent.com/rahulinchal/CSV-Files-/main/Data/BhartiAirtel.csv\", parse_dates = True, index_col = 'Date')\n",
        "df.head()"
      ],
      "metadata": {
        "colab": {
          "base_uri": "https://localhost:8080/",
          "height": 342
        },
        "id": "BxF0YmXcoyYK",
        "outputId": "c89b1c78-c457-4628-bfd0-8ae4878cc9b7"
      },
      "execution_count": null,
      "outputs": [
        {
          "output_type": "execute_result",
          "data": {
            "text/plain": [
              "            Open Price  High Price  Low Price  Close Price         WAP  \\\n",
              "Date                                                                     \n",
              "2021-06-04      534.80      535.75     531.25       532.70  533.229306   \n",
              "2021-06-03      531.85      533.35     528.70       532.10  531.013092   \n",
              "2021-06-02      530.10      534.50     528.00       529.60  530.544324   \n",
              "2021-06-01      538.00      538.00     530.15       532.90  533.446883   \n",
              "2021-05-31      525.80      535.80     525.40       534.95  532.479380   \n",
              "\n",
              "            No.of Shares  No. of Trades  Total Turnover (Rs.)  \\\n",
              "Date                                                            \n",
              "2021-06-04        661985          12196           352989802.0   \n",
              "2021-06-03        735782          15452           390709875.0   \n",
              "2021-06-02        494007          11723           262092610.0   \n",
              "2021-06-01        501024          12404           267269691.0   \n",
              "2021-05-31        927325          19141           493781441.0   \n",
              "\n",
              "            Deliverable Quantity  % Deli. Qty to Traded Qty  Spread High-Low  \\\n",
              "Date                                                                           \n",
              "2021-06-04              398176.0                      60.15             4.50   \n",
              "2021-06-03              479872.0                      65.22             4.65   \n",
              "2021-06-02              273203.0                      55.30             6.50   \n",
              "2021-06-01              232077.0                      46.32             7.85   \n",
              "2021-05-31              549560.0                      59.26            10.40   \n",
              "\n",
              "            Spread Close-Open  \n",
              "Date                           \n",
              "2021-06-04              -2.10  \n",
              "2021-06-03               0.25  \n",
              "2021-06-02              -0.50  \n",
              "2021-06-01              -5.10  \n",
              "2021-05-31               9.15  "
            ],
            "text/html": [
              "\n",
              "  <div id=\"df-d63315f8-230a-4cc8-9f1d-6e2eeaca1597\" class=\"colab-df-container\">\n",
              "    <div>\n",
              "<style scoped>\n",
              "    .dataframe tbody tr th:only-of-type {\n",
              "        vertical-align: middle;\n",
              "    }\n",
              "\n",
              "    .dataframe tbody tr th {\n",
              "        vertical-align: top;\n",
              "    }\n",
              "\n",
              "    .dataframe thead th {\n",
              "        text-align: right;\n",
              "    }\n",
              "</style>\n",
              "<table border=\"1\" class=\"dataframe\">\n",
              "  <thead>\n",
              "    <tr style=\"text-align: right;\">\n",
              "      <th></th>\n",
              "      <th>Open Price</th>\n",
              "      <th>High Price</th>\n",
              "      <th>Low Price</th>\n",
              "      <th>Close Price</th>\n",
              "      <th>WAP</th>\n",
              "      <th>No.of Shares</th>\n",
              "      <th>No. of Trades</th>\n",
              "      <th>Total Turnover (Rs.)</th>\n",
              "      <th>Deliverable Quantity</th>\n",
              "      <th>% Deli. Qty to Traded Qty</th>\n",
              "      <th>Spread High-Low</th>\n",
              "      <th>Spread Close-Open</th>\n",
              "    </tr>\n",
              "    <tr>\n",
              "      <th>Date</th>\n",
              "      <th></th>\n",
              "      <th></th>\n",
              "      <th></th>\n",
              "      <th></th>\n",
              "      <th></th>\n",
              "      <th></th>\n",
              "      <th></th>\n",
              "      <th></th>\n",
              "      <th></th>\n",
              "      <th></th>\n",
              "      <th></th>\n",
              "      <th></th>\n",
              "    </tr>\n",
              "  </thead>\n",
              "  <tbody>\n",
              "    <tr>\n",
              "      <th>2021-06-04</th>\n",
              "      <td>534.80</td>\n",
              "      <td>535.75</td>\n",
              "      <td>531.25</td>\n",
              "      <td>532.70</td>\n",
              "      <td>533.229306</td>\n",
              "      <td>661985</td>\n",
              "      <td>12196</td>\n",
              "      <td>352989802.0</td>\n",
              "      <td>398176.0</td>\n",
              "      <td>60.15</td>\n",
              "      <td>4.50</td>\n",
              "      <td>-2.10</td>\n",
              "    </tr>\n",
              "    <tr>\n",
              "      <th>2021-06-03</th>\n",
              "      <td>531.85</td>\n",
              "      <td>533.35</td>\n",
              "      <td>528.70</td>\n",
              "      <td>532.10</td>\n",
              "      <td>531.013092</td>\n",
              "      <td>735782</td>\n",
              "      <td>15452</td>\n",
              "      <td>390709875.0</td>\n",
              "      <td>479872.0</td>\n",
              "      <td>65.22</td>\n",
              "      <td>4.65</td>\n",
              "      <td>0.25</td>\n",
              "    </tr>\n",
              "    <tr>\n",
              "      <th>2021-06-02</th>\n",
              "      <td>530.10</td>\n",
              "      <td>534.50</td>\n",
              "      <td>528.00</td>\n",
              "      <td>529.60</td>\n",
              "      <td>530.544324</td>\n",
              "      <td>494007</td>\n",
              "      <td>11723</td>\n",
              "      <td>262092610.0</td>\n",
              "      <td>273203.0</td>\n",
              "      <td>55.30</td>\n",
              "      <td>6.50</td>\n",
              "      <td>-0.50</td>\n",
              "    </tr>\n",
              "    <tr>\n",
              "      <th>2021-06-01</th>\n",
              "      <td>538.00</td>\n",
              "      <td>538.00</td>\n",
              "      <td>530.15</td>\n",
              "      <td>532.90</td>\n",
              "      <td>533.446883</td>\n",
              "      <td>501024</td>\n",
              "      <td>12404</td>\n",
              "      <td>267269691.0</td>\n",
              "      <td>232077.0</td>\n",
              "      <td>46.32</td>\n",
              "      <td>7.85</td>\n",
              "      <td>-5.10</td>\n",
              "    </tr>\n",
              "    <tr>\n",
              "      <th>2021-05-31</th>\n",
              "      <td>525.80</td>\n",
              "      <td>535.80</td>\n",
              "      <td>525.40</td>\n",
              "      <td>534.95</td>\n",
              "      <td>532.479380</td>\n",
              "      <td>927325</td>\n",
              "      <td>19141</td>\n",
              "      <td>493781441.0</td>\n",
              "      <td>549560.0</td>\n",
              "      <td>59.26</td>\n",
              "      <td>10.40</td>\n",
              "      <td>9.15</td>\n",
              "    </tr>\n",
              "  </tbody>\n",
              "</table>\n",
              "</div>\n",
              "    <div class=\"colab-df-buttons\">\n",
              "\n",
              "  <div class=\"colab-df-container\">\n",
              "    <button class=\"colab-df-convert\" onclick=\"convertToInteractive('df-d63315f8-230a-4cc8-9f1d-6e2eeaca1597')\"\n",
              "            title=\"Convert this dataframe to an interactive table.\"\n",
              "            style=\"display:none;\">\n",
              "\n",
              "  <svg xmlns=\"http://www.w3.org/2000/svg\" height=\"24px\" viewBox=\"0 -960 960 960\">\n",
              "    <path d=\"M120-120v-720h720v720H120Zm60-500h600v-160H180v160Zm220 220h160v-160H400v160Zm0 220h160v-160H400v160ZM180-400h160v-160H180v160Zm440 0h160v-160H620v160ZM180-180h160v-160H180v160Zm440 0h160v-160H620v160Z\"/>\n",
              "  </svg>\n",
              "    </button>\n",
              "\n",
              "  <style>\n",
              "    .colab-df-container {\n",
              "      display:flex;\n",
              "      gap: 12px;\n",
              "    }\n",
              "\n",
              "    .colab-df-convert {\n",
              "      background-color: #E8F0FE;\n",
              "      border: none;\n",
              "      border-radius: 50%;\n",
              "      cursor: pointer;\n",
              "      display: none;\n",
              "      fill: #1967D2;\n",
              "      height: 32px;\n",
              "      padding: 0 0 0 0;\n",
              "      width: 32px;\n",
              "    }\n",
              "\n",
              "    .colab-df-convert:hover {\n",
              "      background-color: #E2EBFA;\n",
              "      box-shadow: 0px 1px 2px rgba(60, 64, 67, 0.3), 0px 1px 3px 1px rgba(60, 64, 67, 0.15);\n",
              "      fill: #174EA6;\n",
              "    }\n",
              "\n",
              "    .colab-df-buttons div {\n",
              "      margin-bottom: 4px;\n",
              "    }\n",
              "\n",
              "    [theme=dark] .colab-df-convert {\n",
              "      background-color: #3B4455;\n",
              "      fill: #D2E3FC;\n",
              "    }\n",
              "\n",
              "    [theme=dark] .colab-df-convert:hover {\n",
              "      background-color: #434B5C;\n",
              "      box-shadow: 0px 1px 3px 1px rgba(0, 0, 0, 0.15);\n",
              "      filter: drop-shadow(0px 1px 2px rgba(0, 0, 0, 0.3));\n",
              "      fill: #FFFFFF;\n",
              "    }\n",
              "  </style>\n",
              "\n",
              "    <script>\n",
              "      const buttonEl =\n",
              "        document.querySelector('#df-d63315f8-230a-4cc8-9f1d-6e2eeaca1597 button.colab-df-convert');\n",
              "      buttonEl.style.display =\n",
              "        google.colab.kernel.accessAllowed ? 'block' : 'none';\n",
              "\n",
              "      async function convertToInteractive(key) {\n",
              "        const element = document.querySelector('#df-d63315f8-230a-4cc8-9f1d-6e2eeaca1597');\n",
              "        const dataTable =\n",
              "          await google.colab.kernel.invokeFunction('convertToInteractive',\n",
              "                                                    [key], {});\n",
              "        if (!dataTable) return;\n",
              "\n",
              "        const docLinkHtml = 'Like what you see? Visit the ' +\n",
              "          '<a target=\"_blank\" href=https://colab.research.google.com/notebooks/data_table.ipynb>data table notebook</a>'\n",
              "          + ' to learn more about interactive tables.';\n",
              "        element.innerHTML = '';\n",
              "        dataTable['output_type'] = 'display_data';\n",
              "        await google.colab.output.renderOutput(dataTable, element);\n",
              "        const docLink = document.createElement('div');\n",
              "        docLink.innerHTML = docLinkHtml;\n",
              "        element.appendChild(docLink);\n",
              "      }\n",
              "    </script>\n",
              "  </div>\n",
              "\n",
              "\n",
              "<div id=\"df-bb33bf5d-462e-4018-a1db-f5a917fc401c\">\n",
              "  <button class=\"colab-df-quickchart\" onclick=\"quickchart('df-bb33bf5d-462e-4018-a1db-f5a917fc401c')\"\n",
              "            title=\"Suggest charts\"\n",
              "            style=\"display:none;\">\n",
              "\n",
              "<svg xmlns=\"http://www.w3.org/2000/svg\" height=\"24px\"viewBox=\"0 0 24 24\"\n",
              "     width=\"24px\">\n",
              "    <g>\n",
              "        <path d=\"M19 3H5c-1.1 0-2 .9-2 2v14c0 1.1.9 2 2 2h14c1.1 0 2-.9 2-2V5c0-1.1-.9-2-2-2zM9 17H7v-7h2v7zm4 0h-2V7h2v10zm4 0h-2v-4h2v4z\"/>\n",
              "    </g>\n",
              "</svg>\n",
              "  </button>\n",
              "\n",
              "<style>\n",
              "  .colab-df-quickchart {\n",
              "      --bg-color: #E8F0FE;\n",
              "      --fill-color: #1967D2;\n",
              "      --hover-bg-color: #E2EBFA;\n",
              "      --hover-fill-color: #174EA6;\n",
              "      --disabled-fill-color: #AAA;\n",
              "      --disabled-bg-color: #DDD;\n",
              "  }\n",
              "\n",
              "  [theme=dark] .colab-df-quickchart {\n",
              "      --bg-color: #3B4455;\n",
              "      --fill-color: #D2E3FC;\n",
              "      --hover-bg-color: #434B5C;\n",
              "      --hover-fill-color: #FFFFFF;\n",
              "      --disabled-bg-color: #3B4455;\n",
              "      --disabled-fill-color: #666;\n",
              "  }\n",
              "\n",
              "  .colab-df-quickchart {\n",
              "    background-color: var(--bg-color);\n",
              "    border: none;\n",
              "    border-radius: 50%;\n",
              "    cursor: pointer;\n",
              "    display: none;\n",
              "    fill: var(--fill-color);\n",
              "    height: 32px;\n",
              "    padding: 0;\n",
              "    width: 32px;\n",
              "  }\n",
              "\n",
              "  .colab-df-quickchart:hover {\n",
              "    background-color: var(--hover-bg-color);\n",
              "    box-shadow: 0 1px 2px rgba(60, 64, 67, 0.3), 0 1px 3px 1px rgba(60, 64, 67, 0.15);\n",
              "    fill: var(--button-hover-fill-color);\n",
              "  }\n",
              "\n",
              "  .colab-df-quickchart-complete:disabled,\n",
              "  .colab-df-quickchart-complete:disabled:hover {\n",
              "    background-color: var(--disabled-bg-color);\n",
              "    fill: var(--disabled-fill-color);\n",
              "    box-shadow: none;\n",
              "  }\n",
              "\n",
              "  .colab-df-spinner {\n",
              "    border: 2px solid var(--fill-color);\n",
              "    border-color: transparent;\n",
              "    border-bottom-color: var(--fill-color);\n",
              "    animation:\n",
              "      spin 1s steps(1) infinite;\n",
              "  }\n",
              "\n",
              "  @keyframes spin {\n",
              "    0% {\n",
              "      border-color: transparent;\n",
              "      border-bottom-color: var(--fill-color);\n",
              "      border-left-color: var(--fill-color);\n",
              "    }\n",
              "    20% {\n",
              "      border-color: transparent;\n",
              "      border-left-color: var(--fill-color);\n",
              "      border-top-color: var(--fill-color);\n",
              "    }\n",
              "    30% {\n",
              "      border-color: transparent;\n",
              "      border-left-color: var(--fill-color);\n",
              "      border-top-color: var(--fill-color);\n",
              "      border-right-color: var(--fill-color);\n",
              "    }\n",
              "    40% {\n",
              "      border-color: transparent;\n",
              "      border-right-color: var(--fill-color);\n",
              "      border-top-color: var(--fill-color);\n",
              "    }\n",
              "    60% {\n",
              "      border-color: transparent;\n",
              "      border-right-color: var(--fill-color);\n",
              "    }\n",
              "    80% {\n",
              "      border-color: transparent;\n",
              "      border-right-color: var(--fill-color);\n",
              "      border-bottom-color: var(--fill-color);\n",
              "    }\n",
              "    90% {\n",
              "      border-color: transparent;\n",
              "      border-bottom-color: var(--fill-color);\n",
              "    }\n",
              "  }\n",
              "</style>\n",
              "\n",
              "  <script>\n",
              "    async function quickchart(key) {\n",
              "      const quickchartButtonEl =\n",
              "        document.querySelector('#' + key + ' button');\n",
              "      quickchartButtonEl.disabled = true;  // To prevent multiple clicks.\n",
              "      quickchartButtonEl.classList.add('colab-df-spinner');\n",
              "      try {\n",
              "        const charts = await google.colab.kernel.invokeFunction(\n",
              "            'suggestCharts', [key], {});\n",
              "      } catch (error) {\n",
              "        console.error('Error during call to suggestCharts:', error);\n",
              "      }\n",
              "      quickchartButtonEl.classList.remove('colab-df-spinner');\n",
              "      quickchartButtonEl.classList.add('colab-df-quickchart-complete');\n",
              "    }\n",
              "    (() => {\n",
              "      let quickchartButtonEl =\n",
              "        document.querySelector('#df-bb33bf5d-462e-4018-a1db-f5a917fc401c button');\n",
              "      quickchartButtonEl.style.display =\n",
              "        google.colab.kernel.accessAllowed ? 'block' : 'none';\n",
              "    })();\n",
              "  </script>\n",
              "</div>\n",
              "\n",
              "    </div>\n",
              "  </div>\n"
            ],
            "application/vnd.google.colaboratory.intrinsic+json": {
              "type": "dataframe",
              "variable_name": "df",
              "summary": "{\n  \"name\": \"df\",\n  \"rows\": 2582,\n  \"fields\": [\n    {\n      \"column\": \"Date\",\n      \"properties\": {\n        \"dtype\": \"date\",\n        \"min\": \"2011-01-03 00:00:00\",\n        \"max\": \"2021-06-04 00:00:00\",\n        \"num_unique_values\": 2582,\n        \"samples\": [\n          \"2018-02-23 00:00:00\",\n          \"2015-07-29 00:00:00\",\n          \"2018-05-08 00:00:00\"\n        ],\n        \"semantic_type\": \"\",\n        \"description\": \"\"\n      }\n    },\n    {\n      \"column\": \"Open Price\",\n      \"properties\": {\n        \"dtype\": \"number\",\n        \"std\": 75.04568601591924,\n        \"min\": 240.5,\n        \"max\": 618.3,\n        \"num_unique_values\": 1398,\n        \"samples\": [\n          584.0,\n          310.0,\n          347.85\n        ],\n        \"semantic_type\": \"\",\n        \"description\": \"\"\n      }\n    },\n    {\n      \"column\": \"High Price\",\n      \"properties\": {\n        \"dtype\": \"number\",\n        \"std\": 76.00105776552024,\n        \"min\": 244.0,\n        \"max\": 623.0,\n        \"num_unique_values\": 1749,\n        \"samples\": [\n          382.9,\n          298.35,\n          371.15\n        ],\n        \"semantic_type\": \"\",\n        \"description\": \"\"\n      }\n    },\n    {\n      \"column\": \"Low Price\",\n      \"properties\": {\n        \"dtype\": \"number\",\n        \"std\": 73.68412920893259,\n        \"min\": 238.5,\n        \"max\": 599.55,\n        \"num_unique_values\": 1792,\n        \"samples\": [\n          373.35,\n          558.15,\n          347.2\n        ],\n        \"semantic_type\": \"\",\n        \"description\": \"\"\n      }\n    },\n    {\n      \"column\": \"Close Price\",\n      \"properties\": {\n        \"dtype\": \"number\",\n        \"std\": 74.66888351784874,\n        \"min\": 242.3,\n        \"max\": 608.8,\n        \"num_unique_values\": 1946,\n        \"samples\": [\n          292.2,\n          365.55,\n          316.55\n        ],\n        \"semantic_type\": \"\",\n        \"description\": \"\"\n      }\n    },\n    {\n      \"column\": \"WAP\",\n      \"properties\": {\n        \"dtype\": \"number\",\n        \"std\": 74.82447475582133,\n        \"min\": 240.90050650836008,\n        \"max\": 612.7944309430457,\n        \"num_unique_values\": 2582,\n        \"samples\": [\n          424.9313032636359,\n          413.740532573011,\n          400.2907138401882\n        ],\n        \"semantic_type\": \"\",\n        \"description\": \"\"\n      }\n    },\n    {\n      \"column\": \"No.of Shares\",\n      \"properties\": {\n        \"dtype\": \"number\",\n        \"std\": 7491105,\n        \"min\": 12665,\n        \"max\": 279514756,\n        \"num_unique_values\": 2577,\n        \"samples\": [\n          137963,\n          40346,\n          248569\n        ],\n        \"semantic_type\": \"\",\n        \"description\": \"\"\n      }\n    },\n    {\n      \"column\": \"No. of Trades\",\n      \"properties\": {\n        \"dtype\": \"number\",\n        \"std\": 6869,\n        \"min\": 331,\n        \"max\": 162290,\n        \"num_unique_values\": 2265,\n        \"samples\": [\n          9496,\n          4371,\n          4879\n        ],\n        \"semantic_type\": \"\",\n        \"description\": \"\"\n      }\n    },\n    {\n      \"column\": \"Total Turnover (Rs.)\",\n      \"properties\": {\n        \"dtype\": \"number\",\n        \"std\": 3858696035.5977783,\n        \"min\": 3896124.0,\n        \"max\": 135281704070.0,\n        \"num_unique_values\": 2582,\n        \"samples\": [\n          157114525.0,\n          55577352.0,\n          53266285.0\n        ],\n        \"semantic_type\": \"\",\n        \"description\": \"\"\n      }\n    },\n    {\n      \"column\": \"Deliverable Quantity\",\n      \"properties\": {\n        \"dtype\": \"number\",\n        \"std\": 6193051.237437591,\n        \"min\": 2970.0,\n        \"max\": 199916352.0,\n        \"num_unique_values\": 2563,\n        \"samples\": [\n          163976.0,\n          46679.0,\n          565363.0\n        ],\n        \"semantic_type\": \"\",\n        \"description\": \"\"\n      }\n    },\n    {\n      \"column\": \"% Deli. Qty to Traded Qty\",\n      \"properties\": {\n        \"dtype\": \"number\",\n        \"std\": 18.540318060725472,\n        \"min\": 1.27,\n        \"max\": 99.46,\n        \"num_unique_values\": 2046,\n        \"samples\": [\n          8.62,\n          26.51,\n          11.61\n        ],\n        \"semantic_type\": \"\",\n        \"description\": \"\"\n      }\n    },\n    {\n      \"column\": \"Spread High-Low\",\n      \"properties\": {\n        \"dtype\": \"number\",\n        \"std\": 6.917679321451344,\n        \"min\": 1.95,\n        \"max\": 92.4,\n        \"num_unique_values\": 501,\n        \"samples\": [\n          13.35,\n          26.05,\n          8.1\n        ],\n        \"semantic_type\": \"\",\n        \"description\": \"\"\n      }\n    },\n    {\n      \"column\": \"Spread Close-Open\",\n      \"properties\": {\n        \"dtype\": \"number\",\n        \"std\": 7.877327946507937,\n        \"min\": -36.1,\n        \"max\": 62.2,\n        \"num_unique_values\": 659,\n        \"samples\": [\n          14.55,\n          18.3,\n          11.8\n        ],\n        \"semantic_type\": \"\",\n        \"description\": \"\"\n      }\n    }\n  ]\n}"
            }
          },
          "metadata": {},
          "execution_count": 2
        }
      ]
    },
    {
      "cell_type": "code",
      "source": [
        "df.tail(12)"
      ],
      "metadata": {
        "colab": {
          "base_uri": "https://localhost:8080/",
          "height": 683
        },
        "id": "04w8MXbM8ykQ",
        "outputId": "40f9271e-6e78-4847-b6be-5422d299dfc5"
      },
      "execution_count": null,
      "outputs": [
        {
          "output_type": "execute_result",
          "data": {
            "text/plain": [
              "            Open Price  High Price  Low Price  Close Price         WAP  \\\n",
              "Date                                                                     \n",
              "2011-01-18      349.95      351.00     343.35       344.50  345.822203   \n",
              "2011-01-17      344.00      351.00     339.50       347.60  346.616993   \n",
              "2011-01-14      348.00      351.25     341.10       342.70  345.877050   \n",
              "2011-01-13      346.95      354.00     344.20       346.05  348.330062   \n",
              "2011-01-12      341.50      350.70     336.30       348.50  344.467723   \n",
              "2011-01-11      339.25      346.70     334.40       339.20  339.511048   \n",
              "2011-01-10      340.50      343.65     335.10       338.85  340.631195   \n",
              "2011-01-07      353.90      354.75     335.00       338.70  342.594042   \n",
              "2011-01-06      351.00      355.35     351.00       353.25  353.230604   \n",
              "2011-01-05      353.90      355.70     348.35       349.90  351.481252   \n",
              "2011-01-04      361.00      361.75     353.10       355.30  359.347771   \n",
              "2011-01-03      358.40      364.90     354.50       359.35  360.257123   \n",
              "\n",
              "            No.of Shares  No. of Trades  Total Turnover (Rs.)  \\\n",
              "Date                                                            \n",
              "2011-01-18        230442           2663            79691960.0   \n",
              "2011-01-17        334965           5851           116104561.0   \n",
              "2011-01-14        188149           3493            65076421.0   \n",
              "2011-01-13        228381           3336            79551968.0   \n",
              "2011-01-12        298839           4387           102940390.0   \n",
              "2011-01-11        254303           4158            86338678.0   \n",
              "2011-01-10        222866           3687            75915112.0   \n",
              "2011-01-07        358515           5778           122825103.0   \n",
              "2011-01-06        196241           2516            69318327.0   \n",
              "2011-01-05        172421           2552            60602749.0   \n",
              "2011-01-04        510966           3163           183614493.0   \n",
              "2011-01-03        316463           5263           114008050.0   \n",
              "\n",
              "            Deliverable Quantity  % Deli. Qty to Traded Qty  Spread High-Low  \\\n",
              "Date                                                                           \n",
              "2011-01-18              105836.0                      45.93             7.65   \n",
              "2011-01-17              107263.0                      32.02            11.50   \n",
              "2011-01-14               32092.0                      17.06            10.15   \n",
              "2011-01-13               53225.0                      23.31             9.80   \n",
              "2011-01-12               67771.0                      22.68            14.40   \n",
              "2011-01-11               57824.0                      22.74            12.30   \n",
              "2011-01-10               41257.0                      18.51             8.55   \n",
              "2011-01-07               73576.0                      20.52            19.75   \n",
              "2011-01-06               41231.0                      21.01             4.35   \n",
              "2011-01-05               43428.0                      25.19             7.35   \n",
              "2011-01-04              364759.0                      71.39             8.65   \n",
              "2011-01-03               82793.0                      26.16            10.40   \n",
              "\n",
              "            Spread Close-Open  \n",
              "Date                           \n",
              "2011-01-18              -5.45  \n",
              "2011-01-17               3.60  \n",
              "2011-01-14              -5.30  \n",
              "2011-01-13              -0.90  \n",
              "2011-01-12               7.00  \n",
              "2011-01-11              -0.05  \n",
              "2011-01-10              -1.65  \n",
              "2011-01-07             -15.20  \n",
              "2011-01-06               2.25  \n",
              "2011-01-05              -4.00  \n",
              "2011-01-04              -5.70  \n",
              "2011-01-03               0.95  "
            ],
            "text/html": [
              "\n",
              "  <div id=\"df-0d0d8893-15ad-4131-ac77-e23fe40131de\" class=\"colab-df-container\">\n",
              "    <div>\n",
              "<style scoped>\n",
              "    .dataframe tbody tr th:only-of-type {\n",
              "        vertical-align: middle;\n",
              "    }\n",
              "\n",
              "    .dataframe tbody tr th {\n",
              "        vertical-align: top;\n",
              "    }\n",
              "\n",
              "    .dataframe thead th {\n",
              "        text-align: right;\n",
              "    }\n",
              "</style>\n",
              "<table border=\"1\" class=\"dataframe\">\n",
              "  <thead>\n",
              "    <tr style=\"text-align: right;\">\n",
              "      <th></th>\n",
              "      <th>Open Price</th>\n",
              "      <th>High Price</th>\n",
              "      <th>Low Price</th>\n",
              "      <th>Close Price</th>\n",
              "      <th>WAP</th>\n",
              "      <th>No.of Shares</th>\n",
              "      <th>No. of Trades</th>\n",
              "      <th>Total Turnover (Rs.)</th>\n",
              "      <th>Deliverable Quantity</th>\n",
              "      <th>% Deli. Qty to Traded Qty</th>\n",
              "      <th>Spread High-Low</th>\n",
              "      <th>Spread Close-Open</th>\n",
              "    </tr>\n",
              "    <tr>\n",
              "      <th>Date</th>\n",
              "      <th></th>\n",
              "      <th></th>\n",
              "      <th></th>\n",
              "      <th></th>\n",
              "      <th></th>\n",
              "      <th></th>\n",
              "      <th></th>\n",
              "      <th></th>\n",
              "      <th></th>\n",
              "      <th></th>\n",
              "      <th></th>\n",
              "      <th></th>\n",
              "    </tr>\n",
              "  </thead>\n",
              "  <tbody>\n",
              "    <tr>\n",
              "      <th>2011-01-18</th>\n",
              "      <td>349.95</td>\n",
              "      <td>351.00</td>\n",
              "      <td>343.35</td>\n",
              "      <td>344.50</td>\n",
              "      <td>345.822203</td>\n",
              "      <td>230442</td>\n",
              "      <td>2663</td>\n",
              "      <td>79691960.0</td>\n",
              "      <td>105836.0</td>\n",
              "      <td>45.93</td>\n",
              "      <td>7.65</td>\n",
              "      <td>-5.45</td>\n",
              "    </tr>\n",
              "    <tr>\n",
              "      <th>2011-01-17</th>\n",
              "      <td>344.00</td>\n",
              "      <td>351.00</td>\n",
              "      <td>339.50</td>\n",
              "      <td>347.60</td>\n",
              "      <td>346.616993</td>\n",
              "      <td>334965</td>\n",
              "      <td>5851</td>\n",
              "      <td>116104561.0</td>\n",
              "      <td>107263.0</td>\n",
              "      <td>32.02</td>\n",
              "      <td>11.50</td>\n",
              "      <td>3.60</td>\n",
              "    </tr>\n",
              "    <tr>\n",
              "      <th>2011-01-14</th>\n",
              "      <td>348.00</td>\n",
              "      <td>351.25</td>\n",
              "      <td>341.10</td>\n",
              "      <td>342.70</td>\n",
              "      <td>345.877050</td>\n",
              "      <td>188149</td>\n",
              "      <td>3493</td>\n",
              "      <td>65076421.0</td>\n",
              "      <td>32092.0</td>\n",
              "      <td>17.06</td>\n",
              "      <td>10.15</td>\n",
              "      <td>-5.30</td>\n",
              "    </tr>\n",
              "    <tr>\n",
              "      <th>2011-01-13</th>\n",
              "      <td>346.95</td>\n",
              "      <td>354.00</td>\n",
              "      <td>344.20</td>\n",
              "      <td>346.05</td>\n",
              "      <td>348.330062</td>\n",
              "      <td>228381</td>\n",
              "      <td>3336</td>\n",
              "      <td>79551968.0</td>\n",
              "      <td>53225.0</td>\n",
              "      <td>23.31</td>\n",
              "      <td>9.80</td>\n",
              "      <td>-0.90</td>\n",
              "    </tr>\n",
              "    <tr>\n",
              "      <th>2011-01-12</th>\n",
              "      <td>341.50</td>\n",
              "      <td>350.70</td>\n",
              "      <td>336.30</td>\n",
              "      <td>348.50</td>\n",
              "      <td>344.467723</td>\n",
              "      <td>298839</td>\n",
              "      <td>4387</td>\n",
              "      <td>102940390.0</td>\n",
              "      <td>67771.0</td>\n",
              "      <td>22.68</td>\n",
              "      <td>14.40</td>\n",
              "      <td>7.00</td>\n",
              "    </tr>\n",
              "    <tr>\n",
              "      <th>2011-01-11</th>\n",
              "      <td>339.25</td>\n",
              "      <td>346.70</td>\n",
              "      <td>334.40</td>\n",
              "      <td>339.20</td>\n",
              "      <td>339.511048</td>\n",
              "      <td>254303</td>\n",
              "      <td>4158</td>\n",
              "      <td>86338678.0</td>\n",
              "      <td>57824.0</td>\n",
              "      <td>22.74</td>\n",
              "      <td>12.30</td>\n",
              "      <td>-0.05</td>\n",
              "    </tr>\n",
              "    <tr>\n",
              "      <th>2011-01-10</th>\n",
              "      <td>340.50</td>\n",
              "      <td>343.65</td>\n",
              "      <td>335.10</td>\n",
              "      <td>338.85</td>\n",
              "      <td>340.631195</td>\n",
              "      <td>222866</td>\n",
              "      <td>3687</td>\n",
              "      <td>75915112.0</td>\n",
              "      <td>41257.0</td>\n",
              "      <td>18.51</td>\n",
              "      <td>8.55</td>\n",
              "      <td>-1.65</td>\n",
              "    </tr>\n",
              "    <tr>\n",
              "      <th>2011-01-07</th>\n",
              "      <td>353.90</td>\n",
              "      <td>354.75</td>\n",
              "      <td>335.00</td>\n",
              "      <td>338.70</td>\n",
              "      <td>342.594042</td>\n",
              "      <td>358515</td>\n",
              "      <td>5778</td>\n",
              "      <td>122825103.0</td>\n",
              "      <td>73576.0</td>\n",
              "      <td>20.52</td>\n",
              "      <td>19.75</td>\n",
              "      <td>-15.20</td>\n",
              "    </tr>\n",
              "    <tr>\n",
              "      <th>2011-01-06</th>\n",
              "      <td>351.00</td>\n",
              "      <td>355.35</td>\n",
              "      <td>351.00</td>\n",
              "      <td>353.25</td>\n",
              "      <td>353.230604</td>\n",
              "      <td>196241</td>\n",
              "      <td>2516</td>\n",
              "      <td>69318327.0</td>\n",
              "      <td>41231.0</td>\n",
              "      <td>21.01</td>\n",
              "      <td>4.35</td>\n",
              "      <td>2.25</td>\n",
              "    </tr>\n",
              "    <tr>\n",
              "      <th>2011-01-05</th>\n",
              "      <td>353.90</td>\n",
              "      <td>355.70</td>\n",
              "      <td>348.35</td>\n",
              "      <td>349.90</td>\n",
              "      <td>351.481252</td>\n",
              "      <td>172421</td>\n",
              "      <td>2552</td>\n",
              "      <td>60602749.0</td>\n",
              "      <td>43428.0</td>\n",
              "      <td>25.19</td>\n",
              "      <td>7.35</td>\n",
              "      <td>-4.00</td>\n",
              "    </tr>\n",
              "    <tr>\n",
              "      <th>2011-01-04</th>\n",
              "      <td>361.00</td>\n",
              "      <td>361.75</td>\n",
              "      <td>353.10</td>\n",
              "      <td>355.30</td>\n",
              "      <td>359.347771</td>\n",
              "      <td>510966</td>\n",
              "      <td>3163</td>\n",
              "      <td>183614493.0</td>\n",
              "      <td>364759.0</td>\n",
              "      <td>71.39</td>\n",
              "      <td>8.65</td>\n",
              "      <td>-5.70</td>\n",
              "    </tr>\n",
              "    <tr>\n",
              "      <th>2011-01-03</th>\n",
              "      <td>358.40</td>\n",
              "      <td>364.90</td>\n",
              "      <td>354.50</td>\n",
              "      <td>359.35</td>\n",
              "      <td>360.257123</td>\n",
              "      <td>316463</td>\n",
              "      <td>5263</td>\n",
              "      <td>114008050.0</td>\n",
              "      <td>82793.0</td>\n",
              "      <td>26.16</td>\n",
              "      <td>10.40</td>\n",
              "      <td>0.95</td>\n",
              "    </tr>\n",
              "  </tbody>\n",
              "</table>\n",
              "</div>\n",
              "    <div class=\"colab-df-buttons\">\n",
              "\n",
              "  <div class=\"colab-df-container\">\n",
              "    <button class=\"colab-df-convert\" onclick=\"convertToInteractive('df-0d0d8893-15ad-4131-ac77-e23fe40131de')\"\n",
              "            title=\"Convert this dataframe to an interactive table.\"\n",
              "            style=\"display:none;\">\n",
              "\n",
              "  <svg xmlns=\"http://www.w3.org/2000/svg\" height=\"24px\" viewBox=\"0 -960 960 960\">\n",
              "    <path d=\"M120-120v-720h720v720H120Zm60-500h600v-160H180v160Zm220 220h160v-160H400v160Zm0 220h160v-160H400v160ZM180-400h160v-160H180v160Zm440 0h160v-160H620v160ZM180-180h160v-160H180v160Zm440 0h160v-160H620v160Z\"/>\n",
              "  </svg>\n",
              "    </button>\n",
              "\n",
              "  <style>\n",
              "    .colab-df-container {\n",
              "      display:flex;\n",
              "      gap: 12px;\n",
              "    }\n",
              "\n",
              "    .colab-df-convert {\n",
              "      background-color: #E8F0FE;\n",
              "      border: none;\n",
              "      border-radius: 50%;\n",
              "      cursor: pointer;\n",
              "      display: none;\n",
              "      fill: #1967D2;\n",
              "      height: 32px;\n",
              "      padding: 0 0 0 0;\n",
              "      width: 32px;\n",
              "    }\n",
              "\n",
              "    .colab-df-convert:hover {\n",
              "      background-color: #E2EBFA;\n",
              "      box-shadow: 0px 1px 2px rgba(60, 64, 67, 0.3), 0px 1px 3px 1px rgba(60, 64, 67, 0.15);\n",
              "      fill: #174EA6;\n",
              "    }\n",
              "\n",
              "    .colab-df-buttons div {\n",
              "      margin-bottom: 4px;\n",
              "    }\n",
              "\n",
              "    [theme=dark] .colab-df-convert {\n",
              "      background-color: #3B4455;\n",
              "      fill: #D2E3FC;\n",
              "    }\n",
              "\n",
              "    [theme=dark] .colab-df-convert:hover {\n",
              "      background-color: #434B5C;\n",
              "      box-shadow: 0px 1px 3px 1px rgba(0, 0, 0, 0.15);\n",
              "      filter: drop-shadow(0px 1px 2px rgba(0, 0, 0, 0.3));\n",
              "      fill: #FFFFFF;\n",
              "    }\n",
              "  </style>\n",
              "\n",
              "    <script>\n",
              "      const buttonEl =\n",
              "        document.querySelector('#df-0d0d8893-15ad-4131-ac77-e23fe40131de button.colab-df-convert');\n",
              "      buttonEl.style.display =\n",
              "        google.colab.kernel.accessAllowed ? 'block' : 'none';\n",
              "\n",
              "      async function convertToInteractive(key) {\n",
              "        const element = document.querySelector('#df-0d0d8893-15ad-4131-ac77-e23fe40131de');\n",
              "        const dataTable =\n",
              "          await google.colab.kernel.invokeFunction('convertToInteractive',\n",
              "                                                    [key], {});\n",
              "        if (!dataTable) return;\n",
              "\n",
              "        const docLinkHtml = 'Like what you see? Visit the ' +\n",
              "          '<a target=\"_blank\" href=https://colab.research.google.com/notebooks/data_table.ipynb>data table notebook</a>'\n",
              "          + ' to learn more about interactive tables.';\n",
              "        element.innerHTML = '';\n",
              "        dataTable['output_type'] = 'display_data';\n",
              "        await google.colab.output.renderOutput(dataTable, element);\n",
              "        const docLink = document.createElement('div');\n",
              "        docLink.innerHTML = docLinkHtml;\n",
              "        element.appendChild(docLink);\n",
              "      }\n",
              "    </script>\n",
              "  </div>\n",
              "\n",
              "\n",
              "<div id=\"df-0f4393ce-4992-45b2-8b52-2d97076c4dad\">\n",
              "  <button class=\"colab-df-quickchart\" onclick=\"quickchart('df-0f4393ce-4992-45b2-8b52-2d97076c4dad')\"\n",
              "            title=\"Suggest charts\"\n",
              "            style=\"display:none;\">\n",
              "\n",
              "<svg xmlns=\"http://www.w3.org/2000/svg\" height=\"24px\"viewBox=\"0 0 24 24\"\n",
              "     width=\"24px\">\n",
              "    <g>\n",
              "        <path d=\"M19 3H5c-1.1 0-2 .9-2 2v14c0 1.1.9 2 2 2h14c1.1 0 2-.9 2-2V5c0-1.1-.9-2-2-2zM9 17H7v-7h2v7zm4 0h-2V7h2v10zm4 0h-2v-4h2v4z\"/>\n",
              "    </g>\n",
              "</svg>\n",
              "  </button>\n",
              "\n",
              "<style>\n",
              "  .colab-df-quickchart {\n",
              "      --bg-color: #E8F0FE;\n",
              "      --fill-color: #1967D2;\n",
              "      --hover-bg-color: #E2EBFA;\n",
              "      --hover-fill-color: #174EA6;\n",
              "      --disabled-fill-color: #AAA;\n",
              "      --disabled-bg-color: #DDD;\n",
              "  }\n",
              "\n",
              "  [theme=dark] .colab-df-quickchart {\n",
              "      --bg-color: #3B4455;\n",
              "      --fill-color: #D2E3FC;\n",
              "      --hover-bg-color: #434B5C;\n",
              "      --hover-fill-color: #FFFFFF;\n",
              "      --disabled-bg-color: #3B4455;\n",
              "      --disabled-fill-color: #666;\n",
              "  }\n",
              "\n",
              "  .colab-df-quickchart {\n",
              "    background-color: var(--bg-color);\n",
              "    border: none;\n",
              "    border-radius: 50%;\n",
              "    cursor: pointer;\n",
              "    display: none;\n",
              "    fill: var(--fill-color);\n",
              "    height: 32px;\n",
              "    padding: 0;\n",
              "    width: 32px;\n",
              "  }\n",
              "\n",
              "  .colab-df-quickchart:hover {\n",
              "    background-color: var(--hover-bg-color);\n",
              "    box-shadow: 0 1px 2px rgba(60, 64, 67, 0.3), 0 1px 3px 1px rgba(60, 64, 67, 0.15);\n",
              "    fill: var(--button-hover-fill-color);\n",
              "  }\n",
              "\n",
              "  .colab-df-quickchart-complete:disabled,\n",
              "  .colab-df-quickchart-complete:disabled:hover {\n",
              "    background-color: var(--disabled-bg-color);\n",
              "    fill: var(--disabled-fill-color);\n",
              "    box-shadow: none;\n",
              "  }\n",
              "\n",
              "  .colab-df-spinner {\n",
              "    border: 2px solid var(--fill-color);\n",
              "    border-color: transparent;\n",
              "    border-bottom-color: var(--fill-color);\n",
              "    animation:\n",
              "      spin 1s steps(1) infinite;\n",
              "  }\n",
              "\n",
              "  @keyframes spin {\n",
              "    0% {\n",
              "      border-color: transparent;\n",
              "      border-bottom-color: var(--fill-color);\n",
              "      border-left-color: var(--fill-color);\n",
              "    }\n",
              "    20% {\n",
              "      border-color: transparent;\n",
              "      border-left-color: var(--fill-color);\n",
              "      border-top-color: var(--fill-color);\n",
              "    }\n",
              "    30% {\n",
              "      border-color: transparent;\n",
              "      border-left-color: var(--fill-color);\n",
              "      border-top-color: var(--fill-color);\n",
              "      border-right-color: var(--fill-color);\n",
              "    }\n",
              "    40% {\n",
              "      border-color: transparent;\n",
              "      border-right-color: var(--fill-color);\n",
              "      border-top-color: var(--fill-color);\n",
              "    }\n",
              "    60% {\n",
              "      border-color: transparent;\n",
              "      border-right-color: var(--fill-color);\n",
              "    }\n",
              "    80% {\n",
              "      border-color: transparent;\n",
              "      border-right-color: var(--fill-color);\n",
              "      border-bottom-color: var(--fill-color);\n",
              "    }\n",
              "    90% {\n",
              "      border-color: transparent;\n",
              "      border-bottom-color: var(--fill-color);\n",
              "    }\n",
              "  }\n",
              "</style>\n",
              "\n",
              "  <script>\n",
              "    async function quickchart(key) {\n",
              "      const quickchartButtonEl =\n",
              "        document.querySelector('#' + key + ' button');\n",
              "      quickchartButtonEl.disabled = true;  // To prevent multiple clicks.\n",
              "      quickchartButtonEl.classList.add('colab-df-spinner');\n",
              "      try {\n",
              "        const charts = await google.colab.kernel.invokeFunction(\n",
              "            'suggestCharts', [key], {});\n",
              "      } catch (error) {\n",
              "        console.error('Error during call to suggestCharts:', error);\n",
              "      }\n",
              "      quickchartButtonEl.classList.remove('colab-df-spinner');\n",
              "      quickchartButtonEl.classList.add('colab-df-quickchart-complete');\n",
              "    }\n",
              "    (() => {\n",
              "      let quickchartButtonEl =\n",
              "        document.querySelector('#df-0f4393ce-4992-45b2-8b52-2d97076c4dad button');\n",
              "      quickchartButtonEl.style.display =\n",
              "        google.colab.kernel.accessAllowed ? 'block' : 'none';\n",
              "    })();\n",
              "  </script>\n",
              "</div>\n",
              "\n",
              "    </div>\n",
              "  </div>\n"
            ],
            "application/vnd.google.colaboratory.intrinsic+json": {
              "type": "dataframe",
              "summary": "{\n  \"name\": \"df\",\n  \"rows\": 12,\n  \"fields\": [\n    {\n      \"column\": \"Date\",\n      \"properties\": {\n        \"dtype\": \"date\",\n        \"min\": \"2011-01-03 00:00:00\",\n        \"max\": \"2011-01-18 00:00:00\",\n        \"num_unique_values\": 12,\n        \"samples\": [\n          \"2011-01-04 00:00:00\",\n          \"2011-01-05 00:00:00\",\n          \"2011-01-18 00:00:00\"\n        ],\n        \"semantic_type\": \"\",\n        \"description\": \"\"\n      }\n    },\n    {\n      \"column\": \"Open Price\",\n      \"properties\": {\n        \"dtype\": \"number\",\n        \"std\": 7.000242149491336,\n        \"min\": 339.25,\n        \"max\": 361.0,\n        \"num_unique_values\": 11,\n        \"samples\": [\n          339.25,\n          349.95,\n          361.0\n        ],\n        \"semantic_type\": \"\",\n        \"description\": \"\"\n      }\n    },\n    {\n      \"column\": \"High Price\",\n      \"properties\": {\n        \"dtype\": \"number\",\n        \"std\": 5.851435656522615,\n        \"min\": 343.65,\n        \"max\": 364.9,\n        \"num_unique_values\": 11,\n        \"samples\": [\n          343.65,\n          351.0,\n          361.75\n        ],\n        \"semantic_type\": \"\",\n        \"description\": \"\"\n      }\n    },\n    {\n      \"column\": \"Low Price\",\n      \"properties\": {\n        \"dtype\": \"number\",\n        \"std\": 7.3209796082383995,\n        \"min\": 334.4,\n        \"max\": 354.5,\n        \"num_unique_values\": 12,\n        \"samples\": [\n          353.1,\n          348.35,\n          343.35\n        ],\n        \"semantic_type\": \"\",\n        \"description\": \"\"\n      }\n    },\n    {\n      \"column\": \"Close Price\",\n      \"properties\": {\n        \"dtype\": \"number\",\n        \"std\": 6.696601354192271,\n        \"min\": 338.7,\n        \"max\": 359.35,\n        \"num_unique_values\": 12,\n        \"samples\": [\n          355.3,\n          349.9,\n          344.5\n        ],\n        \"semantic_type\": \"\",\n        \"description\": \"\"\n      }\n    },\n    {\n      \"column\": \"WAP\",\n      \"properties\": {\n        \"dtype\": \"number\",\n        \"std\": 6.724651249791797,\n        \"min\": 339.51104784450047,\n        \"max\": 360.25712326559506,\n        \"num_unique_values\": 12,\n        \"samples\": [\n          359.34777069315766,\n          351.4812522836545,\n          345.8222025498824\n        ],\n        \"semantic_type\": \"\",\n        \"description\": \"\"\n      }\n    },\n    {\n      \"column\": \"No.of Shares\",\n      \"properties\": {\n        \"dtype\": \"number\",\n        \"std\": 95393,\n        \"min\": 172421,\n        \"max\": 510966,\n        \"num_unique_values\": 12,\n        \"samples\": [\n          510966,\n          172421,\n          230442\n        ],\n        \"semantic_type\": \"\",\n        \"description\": \"\"\n      }\n    },\n    {\n      \"column\": \"No. of Trades\",\n      \"properties\": {\n        \"dtype\": \"number\",\n        \"std\": 1199,\n        \"min\": 2516,\n        \"max\": 5851,\n        \"num_unique_values\": 12,\n        \"samples\": [\n          3163,\n          2552,\n          2663\n        ],\n        \"semantic_type\": \"\",\n        \"description\": \"\"\n      }\n    },\n    {\n      \"column\": \"Total Turnover (Rs.)\",\n      \"properties\": {\n        \"dtype\": \"number\",\n        \"std\": 34543241.87300483,\n        \"min\": 60602749.0,\n        \"max\": 183614493.0,\n        \"num_unique_values\": 12,\n        \"samples\": [\n          183614493.0,\n          60602749.0,\n          79691960.0\n        ],\n        \"semantic_type\": \"\",\n        \"description\": \"\"\n      }\n    },\n    {\n      \"column\": \"Deliverable Quantity\",\n      \"properties\": {\n        \"dtype\": \"number\",\n        \"std\": 90209.21446530266,\n        \"min\": 32092.0,\n        \"max\": 364759.0,\n        \"num_unique_values\": 12,\n        \"samples\": [\n          364759.0,\n          43428.0,\n          105836.0\n        ],\n        \"semantic_type\": \"\",\n        \"description\": \"\"\n      }\n    },\n    {\n      \"column\": \"% Deli. Qty to Traded Qty\",\n      \"properties\": {\n        \"dtype\": \"number\",\n        \"std\": 15.418161860335854,\n        \"min\": 17.06,\n        \"max\": 71.39,\n        \"num_unique_values\": 12,\n        \"samples\": [\n          71.39,\n          25.19,\n          45.93\n        ],\n        \"semantic_type\": \"\",\n        \"description\": \"\"\n      }\n    },\n    {\n      \"column\": \"Spread High-Low\",\n      \"properties\": {\n        \"dtype\": \"number\",\n        \"std\": 3.915206852385924,\n        \"min\": 4.35,\n        \"max\": 19.75,\n        \"num_unique_values\": 12,\n        \"samples\": [\n          8.65,\n          7.35,\n          7.65\n        ],\n        \"semantic_type\": \"\",\n        \"description\": \"\"\n      }\n    },\n    {\n      \"column\": \"Spread Close-Open\",\n      \"properties\": {\n        \"dtype\": \"number\",\n        \"std\": 5.712550974508993,\n        \"min\": -15.2,\n        \"max\": 7.0,\n        \"num_unique_values\": 12,\n        \"samples\": [\n          -5.7,\n          -4.0,\n          -5.45\n        ],\n        \"semantic_type\": \"\",\n        \"description\": \"\"\n      }\n    }\n  ]\n}"
            }
          },
          "metadata": {},
          "execution_count": 40
        }
      ]
    },
    {
      "cell_type": "code",
      "source": [
        "df.info()"
      ],
      "metadata": {
        "colab": {
          "base_uri": "https://localhost:8080/"
        },
        "id": "shGkbIPGp6X9",
        "outputId": "f0055edc-2d96-499d-e79b-c11c685fdd6f"
      },
      "execution_count": null,
      "outputs": [
        {
          "output_type": "stream",
          "name": "stdout",
          "text": [
            "<class 'pandas.core.frame.DataFrame'>\n",
            "DatetimeIndex: 2582 entries, 2021-06-04 to 2011-01-03\n",
            "Data columns (total 12 columns):\n",
            " #   Column                     Non-Null Count  Dtype  \n",
            "---  ------                     --------------  -----  \n",
            " 0   Open Price                 2582 non-null   float64\n",
            " 1   High Price                 2582 non-null   float64\n",
            " 2   Low Price                  2582 non-null   float64\n",
            " 3   Close Price                2582 non-null   float64\n",
            " 4   WAP                        2582 non-null   float64\n",
            " 5   No.of Shares               2582 non-null   int64  \n",
            " 6   No. of Trades              2582 non-null   int64  \n",
            " 7   Total Turnover (Rs.)       2582 non-null   float64\n",
            " 8   Deliverable Quantity       2581 non-null   float64\n",
            " 9   % Deli. Qty to Traded Qty  2581 non-null   float64\n",
            " 10  Spread High-Low            2582 non-null   float64\n",
            " 11  Spread Close-Open          2582 non-null   float64\n",
            "dtypes: float64(10), int64(2)\n",
            "memory usage: 262.2 KB\n"
          ]
        }
      ]
    },
    {
      "cell_type": "code",
      "source": [
        "#lets plot the close price plot\n",
        "plt.figure(figsize = (10,6))\n",
        "df['Close Price'].plot()\n",
        "plt.show()"
      ],
      "metadata": {
        "colab": {
          "base_uri": "https://localhost:8080/",
          "height": 504
        },
        "id": "bPD7w8yjprcY",
        "outputId": "46e0e572-2080-4074-9e5c-54d9a59a9924"
      },
      "execution_count": null,
      "outputs": [
        {
          "output_type": "display_data",
          "data": {
            "text/plain": [
              "<Figure size 1000x600 with 1 Axes>"
            ],
            "image/png": "[encoded data removed]"
          },
          "metadata": {}
        }
      ]
    },
    {
      "cell_type": "code",
      "source": [
        "airtel_close = df['Close Price']"
      ],
      "metadata": {
        "id": "nNnNHt7tpNM7"
      },
      "execution_count": null,
      "outputs": []
    },
    {
      "cell_type": "code",
      "source": [
        "airtel_close"
      ],
      "metadata": {
        "colab": {
          "base_uri": "https://localhost:8080/"
        },
        "id": "7jGt6t1CqWVk",
        "outputId": "81c9625b-43e2-4e28-df2c-ee3637887db6"
      },
      "execution_count": null,
      "outputs": [
        {
          "output_type": "execute_result",
          "data": {
            "text/plain": [
              "Date\n",
              "2021-06-04    532.70\n",
              "2021-06-03    532.10\n",
              "2021-06-02    529.60\n",
              "2021-06-01    532.90\n",
              "2021-05-31    534.95\n",
              "               ...  \n",
              "2011-01-07    338.70\n",
              "2011-01-06    353.25\n",
              "2011-01-05    349.90\n",
              "2011-01-04    355.30\n",
              "2011-01-03    359.35\n",
              "Name: Close Price, Length: 2582, dtype: float64"
            ]
          },
          "metadata": {},
          "execution_count": 6
        }
      ]
    },
    {
      "cell_type": "markdown",
      "source": [
        "**I dont want date hence i have to drop it**"
      ],
      "metadata": {
        "id": "oSQQeUKtqbpa"
      }
    },
    {
      "cell_type": "code",
      "source": [
        "airtel_close.reset_index(drop = True, inplace = True)\n",
        "airtel_close"
      ],
      "metadata": {
        "colab": {
          "base_uri": "https://localhost:8080/"
        },
        "id": "cxqB0opSqZkz",
        "outputId": "4350626f-537c-42d3-e2e8-cf9b6b178a1c"
      },
      "execution_count": null,
      "outputs": [
        {
          "output_type": "execute_result",
          "data": {
            "text/plain": [
              "0       532.70\n",
              "1       532.10\n",
              "2       529.60\n",
              "3       532.90\n",
              "4       534.95\n",
              "         ...  \n",
              "2577    338.70\n",
              "2578    353.25\n",
              "2579    349.90\n",
              "2580    355.30\n",
              "2581    359.35\n",
              "Name: Close Price, Length: 2582, dtype: float64"
            ]
          },
          "metadata": {},
          "execution_count": 7
        }
      ]
    },
    {
      "cell_type": "code",
      "source": [
        "airtel_close.shape"
      ],
      "metadata": {
        "colab": {
          "base_uri": "https://localhost:8080/"
        },
        "id": "_BR2wPh4qyjX",
        "outputId": "d849f78e-94a8-4afb-87d5-2df419662a11"
      },
      "execution_count": null,
      "outputs": [
        {
          "output_type": "execute_result",
          "data": {
            "text/plain": [
              "(2582,)"
            ]
          },
          "metadata": {},
          "execution_count": 8
        }
      ]
    },
    {
      "cell_type": "markdown",
      "source": [
        "**Making airtel_close a dataframe**"
      ],
      "metadata": {
        "id": "NLJwJ0MQrHzz"
      }
    },
    {
      "cell_type": "code",
      "source": [
        "airtel_close = pd.DataFrame(airtel_close)\n",
        "airtel_close.shape"
      ],
      "metadata": {
        "colab": {
          "base_uri": "https://localhost:8080/"
        },
        "id": "jgZxmqB-q1uy",
        "outputId": "a8d22b9b-654c-4d36-d3a1-624e4afefb74"
      },
      "execution_count": null,
      "outputs": [
        {
          "output_type": "execute_result",
          "data": {
            "text/plain": [
              "(2582, 1)"
            ]
          },
          "metadata": {},
          "execution_count": 9
        }
      ]
    },
    {
      "cell_type": "markdown",
      "source": [
        "**Defining test and training data**"
      ],
      "metadata": {
        "id": "ATFTuZ6OYw75"
      }
    },
    {
      "cell_type": "code",
      "source": [
        "train = airtel_close.iloc[:2570]\n",
        "test = airtel_close.iloc[2570:]"
      ],
      "metadata": {
        "id": "qI5WLJ8JrMzv"
      },
      "execution_count": null,
      "outputs": []
    },
    {
      "cell_type": "markdown",
      "source": [
        "**Scaling the data with min max scaler**"
      ],
      "metadata": {
        "id": "r8Cb3jlQr3kC"
      }
    },
    {
      "cell_type": "code",
      "source": [
        "from sklearn.preprocessing import MinMaxScaler\n",
        "scaler = MinMaxScaler()"
      ],
      "metadata": {
        "id": "6mRMDIiurxN-"
      },
      "execution_count": null,
      "outputs": []
    },
    {
      "cell_type": "code",
      "source": [
        "scaled_train = scaler.fit_transform(train)\n",
        "scaled_test = scaler.transform(train)"
      ],
      "metadata": {
        "id": "tIIY5AHwsGBM"
      },
      "execution_count": null,
      "outputs": []
    },
    {
      "cell_type": "markdown",
      "source": [
        "**Importing Time Series Generator from tensorflow keras**"
      ],
      "metadata": {
        "id": "-mHRtLlEtEwA"
      }
    },
    {
      "cell_type": "code",
      "source": [
        "from tensorflow.keras.preprocessing.sequence import TimeseriesGenerator"
      ],
      "metadata": {
        "id": "SiYRQKgBsKTa"
      },
      "execution_count": null,
      "outputs": []
    },
    {
      "cell_type": "markdown",
      "source": [
        "## **Creating a model**"
      ],
      "metadata": {
        "id": "9mxgWfNZw7wV"
      }
    },
    {
      "cell_type": "code",
      "source": [
        "test.shape"
      ],
      "metadata": {
        "colab": {
          "base_uri": "https://localhost:8080/"
        },
        "id": "WgdPL4c0xNmz",
        "outputId": "e4b6463a-b288-4f6a-db9d-19a4bfaa17d4"
      },
      "execution_count": null,
      "outputs": [
        {
          "output_type": "execute_result",
          "data": {
            "text/plain": [
              "(12, 1)"
            ]
          },
          "metadata": {},
          "execution_count": 19
        }
      ]
    },
    {
      "cell_type": "code",
      "source": [
        "train.shape"
      ],
      "metadata": {
        "colab": {
          "base_uri": "https://localhost:8080/"
        },
        "id": "nG6oKtMcxNku",
        "outputId": "41079ec6-10a2-42ab-f26b-5cb7332bd0ed"
      },
      "execution_count": null,
      "outputs": [
        {
          "output_type": "execute_result",
          "data": {
            "text/plain": [
              "(2570, 1)"
            ]
          },
          "metadata": {},
          "execution_count": 20
        }
      ]
    },
    {
      "cell_type": "code",
      "source": [
        "generator = TimeseriesGenerator(scaled_train, scaled_train, length = 12, batch_size = 32)"
      ],
      "metadata": {
        "id": "Sfleyn_5xNin"
      },
      "execution_count": null,
      "outputs": []
    },
    {
      "cell_type": "markdown",
      "source": [
        "**Importing deep learning packages**"
      ],
      "metadata": {
        "id": "zkW8lNoNyOMx"
      }
    },
    {
      "cell_type": "code",
      "source": [
        "from tensorflow.keras.models import Sequential\n",
        "from tensorflow.keras.layers import Dense, SimpleRNN, LSTM, Dropout"
      ],
      "metadata": {
        "id": "8cUnJLJuyA7S"
      },
      "execution_count": null,
      "outputs": []
    },
    {
      "cell_type": "code",
      "source": [
        "n_feature = 1"
      ],
      "metadata": {
        "id": "nljz8MjxrXTX"
      },
      "execution_count": null,
      "outputs": []
    },
    {
      "cell_type": "markdown",
      "source": [
        "**Defining the hidden layers**"
      ],
      "metadata": {
        "id": "kAOEgSQofqYF"
      }
    },
    {
      "cell_type": "code",
      "source": [
        "model = Sequential()\n",
        "model.add(SimpleRNN(32, input_shape = (12, n_feature)))\n",
        "model.add(Dropout(rate = 0.2))\n",
        "model.add(Dense(1))\n",
        "model.compile(optimizer = 'adam', loss = 'mse')"
      ],
      "metadata": {
        "id": "6eZ7gdpNsAyd"
      },
      "execution_count": null,
      "outputs": []
    },
    {
      "cell_type": "code",
      "source": [
        "model.summary()"
      ],
      "metadata": {
        "colab": {
          "base_uri": "https://localhost:8080/"
        },
        "id": "Br1pSsKQst9T",
        "outputId": "4634a470-7478-499b-ee07-fe7ac1af52db"
      },
      "execution_count": null,
      "outputs": [
        {
          "output_type": "stream",
          "name": "stdout",
          "text": [
            "Model: \"sequential\"\n",
            "_________________________________________________________________\n",
            " Layer (type)                Output Shape              Param #   \n",
            "=================================================================\n",
            " simple_rnn (SimpleRNN)      (None, 32)                1088      \n",
            "                                                                 \n",
            " dropout (Dropout)           (None, 32)                0         \n",
            "                                                                 \n",
            " dense (Dense)               (None, 1)                 33        \n",
            "                                                                 \n",
            "=================================================================\n",
            "Total params: 1121 (4.38 KB)\n",
            "Trainable params: 1121 (4.38 KB)\n",
            "Non-trainable params: 0 (0.00 Byte)\n",
            "_________________________________________________________________\n"
          ]
        }
      ]
    },
    {
      "cell_type": "markdown",
      "source": [
        "**lets fit the model and start the epoch**"
      ],
      "metadata": {
        "id": "UQAu8dREtzQ1"
      }
    },
    {
      "cell_type": "code",
      "source": [
        "model.fit_generator(generator, epochs = 10, shuffle = False)"
      ],
      "metadata": {
        "colab": {
          "base_uri": "https://localhost:8080/"
        },
        "id": "bABIQhOmtRka",
        "outputId": "a1cb5d03-8ac2-49dc-ee91-5dee4ab82351"
      },
      "execution_count": null,
      "outputs": [
        {
          "output_type": "stream",
          "name": "stdout",
          "text": [
            "Epoch 1/10\n",
            "80/80 [==============================] - 1s 4ms/step - loss: 0.0535\n",
            "Epoch 2/10\n",
            "80/80 [==============================] - 1s 6ms/step - loss: 0.0077\n",
            "Epoch 3/10\n",
            "80/80 [==============================] - 1s 7ms/step - loss: 0.0058\n",
            "Epoch 4/10\n",
            "80/80 [==============================] - 1s 6ms/step - loss: 0.0044\n",
            "Epoch 5/10\n",
            "80/80 [==============================] - 0s 5ms/step - loss: 0.0038\n",
            "Epoch 6/10\n",
            "80/80 [==============================] - 0s 4ms/step - loss: 0.0033\n",
            "Epoch 7/10\n",
            "80/80 [==============================] - 0s 4ms/step - loss: 0.0034\n",
            "Epoch 8/10\n",
            "80/80 [==============================] - 0s 4ms/step - loss: 0.0031\n",
            "Epoch 9/10\n",
            "80/80 [==============================] - 0s 4ms/step - loss: 0.0027\n",
            "Epoch 10/10\n",
            "80/80 [==============================] - 0s 4ms/step - loss: 0.0029\n"
          ]
        },
        {
          "output_type": "execute_result",
          "data": {
            "text/plain": [
              "<keras.src.callbacks.History at 0x7e9f7c21e560>"
            ]
          },
          "metadata": {},
          "execution_count": 26
        }
      ]
    },
    {
      "cell_type": "markdown",
      "source": [
        "**Lets plot the losses history**"
      ],
      "metadata": {
        "id": "sR7EQjxNi0Oa"
      }
    },
    {
      "cell_type": "code",
      "source": [
        "losses = pd.DataFrame(model.history.history)\n",
        "losses.plot()"
      ],
      "metadata": {
        "colab": {
          "base_uri": "https://localhost:8080/",
          "height": 448
        },
        "id": "1-r_u1R7uQGu",
        "outputId": "67cc910e-1799-4199-d0b5-2f49df253e8c"
      },
      "execution_count": null,
      "outputs": [
        {
          "output_type": "execute_result",
          "data": {
            "text/plain": [
              "<Axes: >"
            ]
          },
          "metadata": {},
          "execution_count": 27
        },
        {
          "output_type": "display_data",
          "data": {
            "text/plain": [
              "<Figure size 640x480 with 1 Axes>"
            ],
            "image/png": "[encoded data removed]"
          },
          "metadata": {}
        }
      ]
    },
    {
      "cell_type": "markdown",
      "source": [
        "**Evaluating Test Set**"
      ],
      "metadata": {
        "id": "45lcCsXkvsbe"
      }
    },
    {
      "cell_type": "code",
      "source": [
        "first_eval_batch = scaled_train[-12:]\n",
        "first_eval_batch"
      ],
      "metadata": {
        "colab": {
          "base_uri": "https://localhost:8080/"
        },
        "id": "9rsSjGSiutnw",
        "outputId": "b34c19a6-b289-4e7a-dc24-9d917421f363"
      },
      "execution_count": null,
      "outputs": [
        {
          "output_type": "execute_result",
          "data": {
            "text/plain": [
              "array([[0.24420191],\n",
              "       [0.26603001],\n",
              "       [0.22087312],\n",
              "       [0.19727149],\n",
              "       [0.20804911],\n",
              "       [0.2313779 ],\n",
              "       [0.22742156],\n",
              "       [0.2579809 ],\n",
              "       [0.24979536],\n",
              "       [0.25729877],\n",
              "       [0.26739427],\n",
              "       [0.27762619]])"
            ]
          },
          "metadata": {},
          "execution_count": 28
        }
      ]
    },
    {
      "cell_type": "code",
      "source": [
        "first_eval_batch = first_eval_batch.reshape(1,12,1)\n",
        "first_eval_batch"
      ],
      "metadata": {
        "colab": {
          "base_uri": "https://localhost:8080/"
        },
        "id": "lmDalwmzuyeK",
        "outputId": "7cc1faf9-f7cb-428d-acda-5b667f94d746"
      },
      "execution_count": null,
      "outputs": [
        {
          "output_type": "execute_result",
          "data": {
            "text/plain": [
              "array([[[0.24420191],\n",
              "        [0.26603001],\n",
              "        [0.22087312],\n",
              "        [0.19727149],\n",
              "        [0.20804911],\n",
              "        [0.2313779 ],\n",
              "        [0.22742156],\n",
              "        [0.2579809 ],\n",
              "        [0.24979536],\n",
              "        [0.25729877],\n",
              "        [0.26739427],\n",
              "        [0.27762619]]])"
            ]
          },
          "metadata": {},
          "execution_count": 29
        }
      ]
    },
    {
      "cell_type": "code",
      "source": [
        "model.predict(first_eval_batch)"
      ],
      "metadata": {
        "colab": {
          "base_uri": "https://localhost:8080/"
        },
        "id": "w1ljj1XEwpPt",
        "outputId": "af5c63ba-8196-4a67-ad9d-8df0950dd3dd"
      },
      "execution_count": null,
      "outputs": [
        {
          "output_type": "stream",
          "name": "stdout",
          "text": [
            "1/1 [==============================] - 0s 176ms/step\n"
          ]
        },
        {
          "output_type": "execute_result",
          "data": {
            "text/plain": [
              "array([[0.2781999]], dtype=float32)"
            ]
          },
          "metadata": {},
          "execution_count": 30
        }
      ]
    },
    {
      "cell_type": "code",
      "source": [
        "test_predictions = []\n",
        "\n",
        "first_eval_batch = scaled_train[-12:]\n",
        "current_batch = first_eval_batch.reshape((1, 12,n_feature))\n",
        "\n",
        "for i in range(len(test)):\n",
        "\n",
        "  # get prediction 1 time stamp ahead ([0] is for grabbing just the number instead of [array])\n",
        "  current_pred = model.predict(current_batch)[0]\n",
        "\n",
        "  # Store Prediction\n",
        "  test_predictions.append(current_pred)\n",
        "\n",
        "  # update batch to now include prediction and drop first value\n",
        "  current_batch = np. append (current_batch[:,1:,:],[[current_pred]],axis=1)"
      ],
      "metadata": {
        "colab": {
          "base_uri": "https://localhost:8080/"
        },
        "id": "dKMEzFoWxDQS",
        "outputId": "95ac6a84-d574-4c31-87d3-e6cbb6ba753c"
      },
      "execution_count": null,
      "outputs": [
        {
          "output_type": "stream",
          "name": "stdout",
          "text": [
            "1/1 [==============================] - 0s 55ms/step\n",
            "1/1 [==============================] - 0s 57ms/step\n",
            "1/1 [==============================] - 0s 39ms/step\n",
            "1/1 [==============================] - 0s 128ms/step\n",
            "1/1 [==============================] - 0s 80ms/step\n",
            "1/1 [==============================] - 0s 139ms/step\n",
            "1/1 [==============================] - 0s 115ms/step\n",
            "1/1 [==============================] - 0s 127ms/step\n",
            "1/1 [==============================] - 0s 66ms/step\n",
            "1/1 [==============================] - 0s 33ms/step\n",
            "1/1 [==============================] - 0s 40ms/step\n",
            "1/1 [==============================] - 0s 50ms/step\n"
          ]
        }
      ]
    },
    {
      "cell_type": "code",
      "source": [
        "test_predictions"
      ],
      "metadata": {
        "colab": {
          "base_uri": "https://localhost:8080/"
        },
        "id": "cpHltfRMIIbF",
        "outputId": "87f2a76e-c09e-4a96-ff07-801c05edd8ec"
      },
      "execution_count": null,
      "outputs": [
        {
          "output_type": "execute_result",
          "data": {
            "text/plain": [
              "[array([0.2781999], dtype=float32),\n",
              " array([0.285994], dtype=float32),\n",
              " array([0.29531804], dtype=float32),\n",
              " array([0.29456046], dtype=float32),\n",
              " array([0.2940194], dtype=float32),\n",
              " array([0.30147168], dtype=float32),\n",
              " array([0.29684192], dtype=float32),\n",
              " array([0.3049335], dtype=float32),\n",
              " array([0.30688897], dtype=float32),\n",
              " array([0.307178], dtype=float32),\n",
              " array([0.30865312], dtype=float32),\n",
              " array([0.3112704], dtype=float32)]"
            ]
          },
          "metadata": {},
          "execution_count": 33
        }
      ]
    },
    {
      "cell_type": "markdown",
      "source": [
        "**Bringing back the scaled output using inverse scaling**"
      ],
      "metadata": {
        "id": "gyc6AupTIWNP"
      }
    },
    {
      "cell_type": "code",
      "source": [
        "true_prediction = scaler.inverse_transform(test_predictions)\n",
        "true_prediction"
      ],
      "metadata": {
        "colab": {
          "base_uri": "https://localhost:8080/"
        },
        "id": "zZ3_sl0DIPyI",
        "outputId": "7b5b8aa4-50c0-4444-d02a-972be25e8821"
      },
      "execution_count": null,
      "outputs": [
        {
          "output_type": "execute_result",
          "data": {
            "text/plain": [
              "array([[344.26026742],\n",
              "       [347.11679854],\n",
              "       [350.53406066],\n",
              "       [350.25640941],\n",
              "       [350.05811049],\n",
              "       [352.78937087],\n",
              "       [351.09256347],\n",
              "       [354.05812349],\n",
              "       [354.77480668],\n",
              "       [354.88073358],\n",
              "       [355.4213671 ],\n",
              "       [356.38059646]])"
            ]
          },
          "metadata": {},
          "execution_count": 34
        }
      ]
    },
    {
      "cell_type": "code",
      "source": [
        "test['Prediction'] = true_prediction\n",
        "test['Difference'] = test['Close Price'] - test['Prediction']"
      ],
      "metadata": {
        "id": "hACJHzzsIn4k"
      },
      "execution_count": null,
      "outputs": []
    },
    {
      "cell_type": "code",
      "source": [
        "test"
      ],
      "metadata": {
        "colab": {
          "base_uri": "https://localhost:8080/",
          "height": 426
        },
        "id": "Zj3DX1GVJLtC",
        "outputId": "141270a9-c62f-4317-e8a1-564e80859709"
      },
      "execution_count": null,
      "outputs": [
        {
          "output_type": "execute_result",
          "data": {
            "text/plain": [
              "      Close Price  Prediction  Difference\n",
              "2570       344.50  344.260267    0.239733\n",
              "2571       347.60  347.116799    0.483201\n",
              "2572       342.70  350.534061   -7.834061\n",
              "2573       346.05  350.256409   -4.206409\n",
              "2574       348.50  350.058110   -1.558110\n",
              "2575       339.20  352.789371  -13.589371\n",
              "2576       338.85  351.092563  -12.242563\n",
              "2577       338.70  354.058123  -15.358123\n",
              "2578       353.25  354.774807   -1.524807\n",
              "2579       349.90  354.880734   -4.980734\n",
              "2580       355.30  355.421367   -0.121367\n",
              "2581       359.35  356.380596    2.969404"
            ],
            "text/html": [
              "\n",
              "  <div id=\"df-70e996a2-fed8-47bd-be50-1b08b245f335\" class=\"colab-df-container\">\n",
              "    <div>\n",
              "<style scoped>\n",
              "    .dataframe tbody tr th:only-of-type {\n",
              "        vertical-align: middle;\n",
              "    }\n",
              "\n",
              "    .dataframe tbody tr th {\n",
              "        vertical-align: top;\n",
              "    }\n",
              "\n",
              "    .dataframe thead th {\n",
              "        text-align: right;\n",
              "    }\n",
              "</style>\n",
              "<table border=\"1\" class=\"dataframe\">\n",
              "  <thead>\n",
              "    <tr style=\"text-align: right;\">\n",
              "      <th></th>\n",
              "      <th>Close Price</th>\n",
              "      <th>Prediction</th>\n",
              "      <th>Difference</th>\n",
              "    </tr>\n",
              "  </thead>\n",
              "  <tbody>\n",
              "    <tr>\n",
              "      <th>2570</th>\n",
              "      <td>344.50</td>\n",
              "      <td>344.260267</td>\n",
              "      <td>0.239733</td>\n",
              "    </tr>\n",
              "    <tr>\n",
              "      <th>2571</th>\n",
              "      <td>347.60</td>\n",
              "      <td>347.116799</td>\n",
              "      <td>0.483201</td>\n",
              "    </tr>\n",
              "    <tr>\n",
              "      <th>2572</th>\n",
              "      <td>342.70</td>\n",
              "      <td>350.534061</td>\n",
              "      <td>-7.834061</td>\n",
              "    </tr>\n",
              "    <tr>\n",
              "      <th>2573</th>\n",
              "      <td>346.05</td>\n",
              "      <td>350.256409</td>\n",
              "      <td>-4.206409</td>\n",
              "    </tr>\n",
              "    <tr>\n",
              "      <th>2574</th>\n",
              "      <td>348.50</td>\n",
              "      <td>350.058110</td>\n",
              "      <td>-1.558110</td>\n",
              "    </tr>\n",
              "    <tr>\n",
              "      <th>2575</th>\n",
              "      <td>339.20</td>\n",
              "      <td>352.789371</td>\n",
              "      <td>-13.589371</td>\n",
              "    </tr>\n",
              "    <tr>\n",
              "      <th>2576</th>\n",
              "      <td>338.85</td>\n",
              "      <td>351.092563</td>\n",
              "      <td>-12.242563</td>\n",
              "    </tr>\n",
              "    <tr>\n",
              "      <th>2577</th>\n",
              "      <td>338.70</td>\n",
              "      <td>354.058123</td>\n",
              "      <td>-15.358123</td>\n",
              "    </tr>\n",
              "    <tr>\n",
              "      <th>2578</th>\n",
              "      <td>353.25</td>\n",
              "      <td>354.774807</td>\n",
              "      <td>-1.524807</td>\n",
              "    </tr>\n",
              "    <tr>\n",
              "      <th>2579</th>\n",
              "      <td>349.90</td>\n",
              "      <td>354.880734</td>\n",
              "      <td>-4.980734</td>\n",
              "    </tr>\n",
              "    <tr>\n",
              "      <th>2580</th>\n",
              "      <td>355.30</td>\n",
              "      <td>355.421367</td>\n",
              "      <td>-0.121367</td>\n",
              "    </tr>\n",
              "    <tr>\n",
              "      <th>2581</th>\n",
              "      <td>359.35</td>\n",
              "      <td>356.380596</td>\n",
              "      <td>2.969404</td>\n",
              "    </tr>\n",
              "  </tbody>\n",
              "</table>\n",
              "</div>\n",
              "    <div class=\"colab-df-buttons\">\n",
              "\n",
              "  <div class=\"colab-df-container\">\n",
              "    <button class=\"colab-df-convert\" onclick=\"convertToInteractive('df-70e996a2-fed8-47bd-be50-1b08b245f335')\"\n",
              "            title=\"Convert this dataframe to an interactive table.\"\n",
              "            style=\"display:none;\">\n",
              "\n",
              "  <svg xmlns=\"http://www.w3.org/2000/svg\" height=\"24px\" viewBox=\"0 -960 960 960\">\n",
              "    <path d=\"M120-120v-720h720v720H120Zm60-500h600v-160H180v160Zm220 220h160v-160H400v160Zm0 220h160v-160H400v160ZM180-400h160v-160H180v160Zm440 0h160v-160H620v160ZM180-180h160v-160H180v160Zm440 0h160v-160H620v160Z\"/>\n",
              "  </svg>\n",
              "    </button>\n",
              "\n",
              "  <style>\n",
              "    .colab-df-container {\n",
              "      display:flex;\n",
              "      gap: 12px;\n",
              "    }\n",
              "\n",
              "    .colab-df-convert {\n",
              "      background-color: #E8F0FE;\n",
              "      border: none;\n",
              "      border-radius: 50%;\n",
              "      cursor: pointer;\n",
              "      display: none;\n",
              "      fill: #1967D2;\n",
              "      height: 32px;\n",
              "      padding: 0 0 0 0;\n",
              "      width: 32px;\n",
              "    }\n",
              "\n",
              "    .colab-df-convert:hover {\n",
              "      background-color: #E2EBFA;\n",
              "      box-shadow: 0px 1px 2px rgba(60, 64, 67, 0.3), 0px 1px 3px 1px rgba(60, 64, 67, 0.15);\n",
              "      fill: #174EA6;\n",
              "    }\n",
              "\n",
              "    .colab-df-buttons div {\n",
              "      margin-bottom: 4px;\n",
              "    }\n",
              "\n",
              "    [theme=dark] .colab-df-convert {\n",
              "      background-color: #3B4455;\n",
              "      fill: #D2E3FC;\n",
              "    }\n",
              "\n",
              "    [theme=dark] .colab-df-convert:hover {\n",
              "      background-color: #434B5C;\n",
              "      box-shadow: 0px 1px 3px 1px rgba(0, 0, 0, 0.15);\n",
              "      filter: drop-shadow(0px 1px 2px rgba(0, 0, 0, 0.3));\n",
              "      fill: #FFFFFF;\n",
              "    }\n",
              "  </style>\n",
              "\n",
              "    <script>\n",
              "      const buttonEl =\n",
              "        document.querySelector('#df-70e996a2-fed8-47bd-be50-1b08b245f335 button.colab-df-convert');\n",
              "      buttonEl.style.display =\n",
              "        google.colab.kernel.accessAllowed ? 'block' : 'none';\n",
              "\n",
              "      async function convertToInteractive(key) {\n",
              "        const element = document.querySelector('#df-70e996a2-fed8-47bd-be50-1b08b245f335');\n",
              "        const dataTable =\n",
              "          await google.colab.kernel.invokeFunction('convertToInteractive',\n",
              "                                                    [key], {});\n",
              "        if (!dataTable) return;\n",
              "\n",
              "        const docLinkHtml = 'Like what you see? Visit the ' +\n",
              "          '<a target=\"_blank\" href=https://colab.research.google.com/notebooks/data_table.ipynb>data table notebook</a>'\n",
              "          + ' to learn more about interactive tables.';\n",
              "        element.innerHTML = '';\n",
              "        dataTable['output_type'] = 'display_data';\n",
              "        await google.colab.output.renderOutput(dataTable, element);\n",
              "        const docLink = document.createElement('div');\n",
              "        docLink.innerHTML = docLinkHtml;\n",
              "        element.appendChild(docLink);\n",
              "      }\n",
              "    </script>\n",
              "  </div>\n",
              "\n",
              "\n",
              "<div id=\"df-c5ed8c64-d527-4fae-ae21-36c5a98de58d\">\n",
              "  <button class=\"colab-df-quickchart\" onclick=\"quickchart('df-c5ed8c64-d527-4fae-ae21-36c5a98de58d')\"\n",
              "            title=\"Suggest charts\"\n",
              "            style=\"display:none;\">\n",
              "\n",
              "<svg xmlns=\"http://www.w3.org/2000/svg\" height=\"24px\"viewBox=\"0 0 24 24\"\n",
              "     width=\"24px\">\n",
              "    <g>\n",
              "        <path d=\"M19 3H5c-1.1 0-2 .9-2 2v14c0 1.1.9 2 2 2h14c1.1 0 2-.9 2-2V5c0-1.1-.9-2-2-2zM9 17H7v-7h2v7zm4 0h-2V7h2v10zm4 0h-2v-4h2v4z\"/>\n",
              "    </g>\n",
              "</svg>\n",
              "  </button>\n",
              "\n",
              "<style>\n",
              "  .colab-df-quickchart {\n",
              "      --bg-color: #E8F0FE;\n",
              "      --fill-color: #1967D2;\n",
              "      --hover-bg-color: #E2EBFA;\n",
              "      --hover-fill-color: #174EA6;\n",
              "      --disabled-fill-color: #AAA;\n",
              "      --disabled-bg-color: #DDD;\n",
              "  }\n",
              "\n",
              "  [theme=dark] .colab-df-quickchart {\n",
              "      --bg-color: #3B4455;\n",
              "      --fill-color: #D2E3FC;\n",
              "      --hover-bg-color: #434B5C;\n",
              "      --hover-fill-color: #FFFFFF;\n",
              "      --disabled-bg-color: #3B4455;\n",
              "      --disabled-fill-color: #666;\n",
              "  }\n",
              "\n",
              "  .colab-df-quickchart {\n",
              "    background-color: var(--bg-color);\n",
              "    border: none;\n",
              "    border-radius: 50%;\n",
              "    cursor: pointer;\n",
              "    display: none;\n",
              "    fill: var(--fill-color);\n",
              "    height: 32px;\n",
              "    padding: 0;\n",
              "    width: 32px;\n",
              "  }\n",
              "\n",
              "  .colab-df-quickchart:hover {\n",
              "    background-color: var(--hover-bg-color);\n",
              "    box-shadow: 0 1px 2px rgba(60, 64, 67, 0.3), 0 1px 3px 1px rgba(60, 64, 67, 0.15);\n",
              "    fill: var(--button-hover-fill-color);\n",
              "  }\n",
              "\n",
              "  .colab-df-quickchart-complete:disabled,\n",
              "  .colab-df-quickchart-complete:disabled:hover {\n",
              "    background-color: var(--disabled-bg-color);\n",
              "    fill: var(--disabled-fill-color);\n",
              "    box-shadow: none;\n",
              "  }\n",
              "\n",
              "  .colab-df-spinner {\n",
              "    border: 2px solid var(--fill-color);\n",
              "    border-color: transparent;\n",
              "    border-bottom-color: var(--fill-color);\n",
              "    animation:\n",
              "      spin 1s steps(1) infinite;\n",
              "  }\n",
              "\n",
              "  @keyframes spin {\n",
              "    0% {\n",
              "      border-color: transparent;\n",
              "      border-bottom-color: var(--fill-color);\n",
              "      border-left-color: var(--fill-color);\n",
              "    }\n",
              "    20% {\n",
              "      border-color: transparent;\n",
              "      border-left-color: var(--fill-color);\n",
              "      border-top-color: var(--fill-color);\n",
              "    }\n",
              "    30% {\n",
              "      border-color: transparent;\n",
              "      border-left-color: var(--fill-color);\n",
              "      border-top-color: var(--fill-color);\n",
              "      border-right-color: var(--fill-color);\n",
              "    }\n",
              "    40% {\n",
              "      border-color: transparent;\n",
              "      border-right-color: var(--fill-color);\n",
              "      border-top-color: var(--fill-color);\n",
              "    }\n",
              "    60% {\n",
              "      border-color: transparent;\n",
              "      border-right-color: var(--fill-color);\n",
              "    }\n",
              "    80% {\n",
              "      border-color: transparent;\n",
              "      border-right-color: var(--fill-color);\n",
              "      border-bottom-color: var(--fill-color);\n",
              "    }\n",
              "    90% {\n",
              "      border-color: transparent;\n",
              "      border-bottom-color: var(--fill-color);\n",
              "    }\n",
              "  }\n",
              "</style>\n",
              "\n",
              "  <script>\n",
              "    async function quickchart(key) {\n",
              "      const quickchartButtonEl =\n",
              "        document.querySelector('#' + key + ' button');\n",
              "      quickchartButtonEl.disabled = true;  // To prevent multiple clicks.\n",
              "      quickchartButtonEl.classList.add('colab-df-spinner');\n",
              "      try {\n",
              "        const charts = await google.colab.kernel.invokeFunction(\n",
              "            'suggestCharts', [key], {});\n",
              "      } catch (error) {\n",
              "        console.error('Error during call to suggestCharts:', error);\n",
              "      }\n",
              "      quickchartButtonEl.classList.remove('colab-df-spinner');\n",
              "      quickchartButtonEl.classList.add('colab-df-quickchart-complete');\n",
              "    }\n",
              "    (() => {\n",
              "      let quickchartButtonEl =\n",
              "        document.querySelector('#df-c5ed8c64-d527-4fae-ae21-36c5a98de58d button');\n",
              "      quickchartButtonEl.style.display =\n",
              "        google.colab.kernel.accessAllowed ? 'block' : 'none';\n",
              "    })();\n",
              "  </script>\n",
              "</div>\n",
              "\n",
              "  <div id=\"id_0fe45d8b-d71d-4b2c-8acb-6fd2b48e78c5\">\n",
              "    <style>\n",
              "      .colab-df-generate {\n",
              "        background-color: #E8F0FE;\n",
              "        border: none;\n",
              "        border-radius: 50%;\n",
              "        cursor: pointer;\n",
              "        display: none;\n",
              "        fill: #1967D2;\n",
              "        height: 32px;\n",
              "        padding: 0 0 0 0;\n",
              "        width: 32px;\n",
              "      }\n",
              "\n",
              "      .colab-df-generate:hover {\n",
              "        background-color: #E2EBFA;\n",
              "        box-shadow: 0px 1px 2px rgba(60, 64, 67, 0.3), 0px 1px 3px 1px rgba(60, 64, 67, 0.15);\n",
              "        fill: #174EA6;\n",
              "      }\n",
              "\n",
              "      [theme=dark] .colab-df-generate {\n",
              "        background-color: #3B4455;\n",
              "        fill: #D2E3FC;\n",
              "      }\n",
              "\n",
              "      [theme=dark] .colab-df-generate:hover {\n",
              "        background-color: #434B5C;\n",
              "        box-shadow: 0px 1px 3px 1px rgba(0, 0, 0, 0.15);\n",
              "        filter: drop-shadow(0px 1px 2px rgba(0, 0, 0, 0.3));\n",
              "        fill: #FFFFFF;\n",
              "      }\n",
              "    </style>\n",
              "    <button class=\"colab-df-generate\" onclick=\"generateWithVariable('test')\"\n",
              "            title=\"Generate code using this dataframe.\"\n",
              "            style=\"display:none;\">\n",
              "\n",
              "  <svg xmlns=\"http://www.w3.org/2000/svg\" height=\"24px\"viewBox=\"0 0 24 24\"\n",
              "       width=\"24px\">\n",
              "    <path d=\"M7,19H8.4L18.45,9,17,7.55,7,17.6ZM5,21V16.75L18.45,3.32a2,2,0,0,1,2.83,0l1.4,1.43a1.91,1.91,0,0,1,.58,1.4,1.91,1.91,0,0,1-.58,1.4L9.25,21ZM18.45,9,17,7.55Zm-12,3A5.31,5.31,0,0,0,4.9,8.1,5.31,5.31,0,0,0,1,6.5,5.31,5.31,0,0,0,4.9,4.9,5.31,5.31,0,0,0,6.5,1,5.31,5.31,0,0,0,8.1,4.9,5.31,5.31,0,0,0,12,6.5,5.46,5.46,0,0,0,6.5,12Z\"/>\n",
              "  </svg>\n",
              "    </button>\n",
              "    <script>\n",
              "      (() => {\n",
              "      const buttonEl =\n",
              "        document.querySelector('#id_0fe45d8b-d71d-4b2c-8acb-6fd2b48e78c5 button.colab-df-generate');\n",
              "      buttonEl.style.display =\n",
              "        google.colab.kernel.accessAllowed ? 'block' : 'none';\n",
              "\n",
              "      buttonEl.onclick = () => {\n",
              "        google.colab.notebook.generateWithVariable('test');\n",
              "      }\n",
              "      })();\n",
              "    </script>\n",
              "  </div>\n",
              "\n",
              "    </div>\n",
              "  </div>\n"
            ],
            "application/vnd.google.colaboratory.intrinsic+json": {
              "type": "dataframe",
              "variable_name": "test",
              "summary": "{\n  \"name\": \"test\",\n  \"rows\": 12,\n  \"fields\": [\n    {\n      \"column\": \"Close Price\",\n      \"properties\": {\n        \"dtype\": \"number\",\n        \"std\": 6.696601354192271,\n        \"min\": 338.7,\n        \"max\": 359.35,\n        \"num_unique_values\": 12,\n        \"samples\": [\n          355.3,\n          349.9,\n          344.5\n        ],\n        \"semantic_type\": \"\",\n        \"description\": \"\"\n      }\n    },\n    {\n      \"column\": \"Prediction\",\n      \"properties\": {\n        \"dtype\": \"number\",\n        \"std\": 3.628352398086272,\n        \"min\": 344.26026742458345,\n        \"max\": 356.38059646189214,\n        \"num_unique_values\": 12,\n        \"samples\": [\n          355.42136709690095,\n          354.88073358237745,\n          344.26026742458345\n        ],\n        \"semantic_type\": \"\",\n        \"description\": \"\"\n      }\n    },\n    {\n      \"column\": \"Difference\",\n      \"properties\": {\n        \"dtype\": \"number\",\n        \"std\": 6.108928893101528,\n        \"min\": -15.358123487234138,\n        \"max\": 2.9694035381078834,\n        \"num_unique_values\": 12,\n        \"samples\": [\n          -0.12136709690093994,\n          -4.980733582377468,\n          0.23973257541655357\n        ],\n        \"semantic_type\": \"\",\n        \"description\": \"\"\n      }\n    }\n  ]\n}"
            }
          },
          "metadata": {},
          "execution_count": 36
        }
      ]
    },
    {
      "cell_type": "markdown",
      "source": [
        "**Lets plot this**"
      ],
      "metadata": {
        "id": "sCih_8KjJwf7"
      }
    },
    {
      "cell_type": "code",
      "source": [
        "plt.figure(figsize = (12,4))\n",
        "plt.subplot(1,2,1)\n",
        "plt.plot(test)\n",
        "\n",
        "plt.subplot(1,2,2)\n",
        "df['Close Price'].plot()\n",
        "plt.legend()\n",
        "plt.show()"
      ],
      "metadata": {
        "colab": {
          "base_uri": "https://localhost:8080/",
          "height": 368
        },
        "id": "RLjadlsLJMZ4",
        "outputId": "500d6786-326d-4239-906b-82ef6de95c17"
      },
      "execution_count": null,
      "outputs": [
        {
          "output_type": "display_data",
          "data": {
            "text/plain": [
              "<Figure size 1200x400 with 2 Axes>"
            ],
            "image/png": "[encoded data removed]"
          },
          "metadata": {}
        }
      ]
    },
    {
      "cell_type": "code",
      "source": [
        "test.plot()"
      ],
      "metadata": {
        "id": "XpPUrVpYJ0Ex",
        "colab": {
          "base_uri": "https://localhost:8080/",
          "height": 448
        },
        "outputId": "0a789890-6da5-4b90-90d0-16a4906a5df1"
      },
      "execution_count": null,
      "outputs": [
        {
          "output_type": "execute_result",
          "data": {
            "text/plain": [
              "<Axes: >"
            ]
          },
          "metadata": {},
          "execution_count": 38
        },
        {
          "output_type": "display_data",
          "data": {
            "text/plain": [
              "<Figure size 640x480 with 1 Axes>"
            ],
            "image/png": "[encoded data removed]"
          },
          "metadata": {}
        }
      ]
    },
    {
      "cell_type": "code",
      "source": [],
      "metadata": {
        "id": "axf0odCLOyo9"
      },
      "execution_count": null,
      "outputs": []
    }
  ]
}